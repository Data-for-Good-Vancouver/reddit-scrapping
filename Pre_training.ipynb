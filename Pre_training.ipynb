{
 "cells": [
  {
   "cell_type": "code",
   "execution_count": 3,
   "id": "49433603",
   "metadata": {},
   "outputs": [
    {
     "name": "stderr",
     "output_type": "stream",
     "text": [
      "[nltk_data] Downloading package punkt to /Users/jennifer/nltk_data...\n",
      "[nltk_data]   Package punkt is already up-to-date!\n"
     ]
    }
   ],
   "source": [
    "import pandas as pd\n",
    "from segtok.segmenter import split_multi\n",
    "from segtok.tokenizer import web_tokenizer, split_contractions\n",
    "from nltk.stem.porter import PorterStemmer\n",
    "from nltk.tokenize import word_tokenize\n",
    "import nltk\n",
    "nltk.download('punkt')\n",
    "from _stopwords import get_stopwords_list\n",
    "from itertools import chain\n",
    "import string"
   ]
  },
  {
   "cell_type": "code",
   "execution_count": 4,
   "id": "774dca61",
   "metadata": {},
   "outputs": [],
   "source": [
    "# Read the CSV file\n",
    "BCpolitics = pd.read_csv(\"aws/BCpolitics1.csv\")\n",
    "CanadianPolitics = pd.read_csv(\"aws/CanadianPolitics.csv\")\n",
    "vancouver = pd.read_csv(\"vancouver.csv\")"
   ]
  },
  {
   "cell_type": "code",
   "execution_count": 5,
   "id": "d5f36902",
   "metadata": {},
   "outputs": [],
   "source": [
    "def pre_train(title):\n",
    "\n",
    "    sentence_token = [[\n",
    "    w for w in split_contractions(web_tokenizer(s)) if not (w.startswith(\"'\") and len(w) > 1) and len(w) > 0\n",
    "    ] for s in list(split_multi(title)) if len(s.strip()) > 0  ]\n",
    "    __stemmer = PorterStemmer()\n",
    "    stemmed = [list(map(lambda x: __stemmer.stem(x), words)) for words in sentence_token]\n",
    "    __stopwords = get_stopwords_list(\"en\", stopwords_list=None)\n",
    "    stemmed = list(chain(*stemmed))\n",
    "    stemmed = list(filter(lambda x: x.lower() not in __stopwords, stemmed))\n",
    "    stemmed = list(filter(lambda x: x.lower() not in string.punctuation, stemmed))\n",
    "    return stemmed"
   ]
  },
  {
   "cell_type": "code",
   "execution_count": 7,
   "id": "ff86bd15",
   "metadata": {},
   "outputs": [],
   "source": [
    "BCpolitics[\"clear_title\"] = BCpolitics[\"title\"].apply(pre_train)\n"
   ]
  },
  {
   "cell_type": "code",
   "execution_count": 8,
   "id": "baf4002d",
   "metadata": {},
   "outputs": [],
   "source": [
    "BCpolitics[\"clear_text\"] = BCpolitics[\"selftext\"].apply(lambda x: pre_train(x) if not pd.isnull(x)else None)\n"
   ]
  },
  {
   "cell_type": "code",
   "execution_count": null,
   "id": "5d6fccca",
   "metadata": {},
   "outputs": [],
   "source": []
  }
 ],
 "metadata": {
  "kernelspec": {
   "display_name": "Python 3 (ipykernel)",
   "language": "python",
   "name": "python3"
  },
  "language_info": {
   "codemirror_mode": {
    "name": "ipython",
    "version": 3
   },
   "file_extension": ".py",
   "mimetype": "text/x-python",
   "name": "python",
   "nbconvert_exporter": "python",
   "pygments_lexer": "ipython3",
   "version": "3.9.18"
  }
 },
 "nbformat": 4,
 "nbformat_minor": 5
}
