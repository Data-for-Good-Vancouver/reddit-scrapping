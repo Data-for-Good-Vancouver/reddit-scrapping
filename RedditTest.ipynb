{
 "cells": [
  {
   "cell_type": "code",
   "execution_count": 1,
   "metadata": {},
   "outputs": [],
   "source": [
    "import os\n",
    "from pprint import pprint\n",
    "\n",
    "import praw\n",
    "import pandas as pd"
   ]
  },
  {
   "cell_type": "code",
   "execution_count": 2,
   "metadata": {},
   "outputs": [
    {
     "data": {
      "text/plain": [
       "('8p2pOSaP583yAFhvNt1CmQ',\n",
       " 'mOPQPMF9tcwgh_iezkHucxgar8k1qw',\n",
       " 'jorgeAVO',\n",
       " 'nZyo^aAJ3p%i4t3',\n",
       " 'Comment Extraction (by u/USERNAME)')"
      ]
     },
     "execution_count": 2,
     "metadata": {},
     "output_type": "execute_result"
    }
   ],
   "source": [
    "os.getenv('CLIENT_ID'),os.getenv('CLIENT_SECRET'),os.getenv('USERNAME'),os.getenv('PASSWORD'),\"Comment Extraction (by u/USERNAME)\","
   ]
  },
  {
   "cell_type": "code",
   "execution_count": 3,
   "metadata": {},
   "outputs": [],
   "source": [
    "reddit = praw.Reddit(\n",
    "    client_id=os.getenv('CLIENT_ID'),\n",
    "    client_secret=os.getenv('CLIENT_SECRET'),\n",
    "    username=os.getenv('USERNAME'),\n",
    "    password=os.getenv('PASSWORD'),\n",
    "    user_agent=f\"DataForGoodTest\",\n",
    ")"
   ]
  },
  {
   "cell_type": "code",
   "execution_count": 4,
   "metadata": {},
   "outputs": [],
   "source": [
    "subreddit = reddit.subreddit('deeplearning')"
   ]
  },
  {
   "cell_type": "code",
   "execution_count": 5,
   "metadata": {},
   "outputs": [
    {
     "data": {
      "text/plain": [
       "praw.models.reddit.subreddit.Subreddit"
      ]
     },
     "execution_count": 5,
     "metadata": {},
     "output_type": "execute_result"
    }
   ],
   "source": [
    "type(subreddit)"
   ]
  },
  {
   "cell_type": "code",
   "execution_count": 6,
   "metadata": {},
   "outputs": [],
   "source": [
    "posts = []\n",
    "for submission in subreddit.hot(limit=10):\n",
    "    posts.append(\n",
    "        (\n",
    "            submission.title,\n",
    "            submission.score, #upvotes\n",
    "            submission.id,\n",
    "            submission.name,\n",
    "            submission.url,\n",
    "            submission.author,\n",
    "            submission.selftext,\n",
    "        )\n",
    "    )"
   ]
  },
  {
   "cell_type": "code",
   "execution_count": 7,
   "metadata": {},
   "outputs": [],
   "source": [
    "df = pd.DataFrame(\n",
    "    posts, \n",
    "    columns=['title', 'score', 'id', 'name', 'url', 'author', 'selftext']\n",
    ")"
   ]
  },
  {
   "attachments": {},
   "cell_type": "markdown",
   "metadata": {},
   "source": [
    "Which variables does PRAW retrieve?"
   ]
  },
  {
   "cell_type": "code",
   "execution_count": 8,
   "metadata": {},
   "outputs": [
    {
     "name": "stdout",
     "output_type": "stream",
     "text": [
      "dict_keys(['comment_limit', 'comment_sort', '_reddit', 'approved_at_utc', 'subreddit', 'selftext', 'author_fullname', 'saved', 'mod_reason_title', 'gilded', 'clicked', 'title', 'link_flair_richtext', 'subreddit_name_prefixed', 'hidden', 'pwls', 'link_flair_css_class', 'downs', 'top_awarded_type', 'hide_score', 'name', 'quarantine', 'link_flair_text_color', 'upvote_ratio', 'author_flair_background_color', 'subreddit_type', 'ups', 'total_awards_received', 'media_embed', 'author_flair_template_id', 'is_original_content', 'user_reports', 'secure_media', 'is_reddit_media_domain', 'is_meta', 'category', 'secure_media_embed', 'link_flair_text', 'can_mod_post', 'score', 'approved_by', 'is_created_from_ads_ui', 'author_premium', 'thumbnail', 'edited', 'author_flair_css_class', 'author_flair_richtext', 'gildings', 'content_categories', 'is_self', 'mod_note', 'created', 'link_flair_type', 'wls', 'removed_by_category', 'banned_by', 'author_flair_type', 'domain', 'allow_live_comments', 'selftext_html', 'likes', 'suggested_sort', 'banned_at_utc', 'view_count', 'archived', 'no_follow', 'is_crosspostable', 'pinned', 'over_18', 'all_awardings', 'awarders', 'media_only', 'can_gild', 'spoiler', 'locked', 'author_flair_text', 'treatment_tags', 'visited', 'removed_by', 'num_reports', 'distinguished', 'subreddit_id', 'author_is_blocked', 'mod_reason_by', 'removal_reason', 'link_flair_background_color', 'id', 'is_robot_indexable', 'report_reasons', 'author', 'discussion_type', 'num_comments', 'send_replies', 'whitelist_status', 'contest_mode', 'mod_reports', 'author_patreon_flair', 'author_flair_text_color', 'permalink', 'parent_whitelist_status', 'stickied', 'url', 'subreddit_subscribers', 'created_utc', 'num_crossposts', 'media', 'is_video', '_fetched', '_comments_by_id'])\n"
     ]
    }
   ],
   "source": [
    "pprint(vars(submission).keys())"
   ]
  },
  {
   "cell_type": "code",
   "execution_count": 9,
   "metadata": {},
   "outputs": [
    {
     "data": {
      "text/plain": [
       "'*The Rise of Multi-Model Deep Learning: Transforming the Way We Solve Complex Problems* https://www.linkedin.com/posts/ashishpatel2604_machinelearning-computervision-deeplearning-activity-7029682864258523136-z8eD'"
      ]
     },
     "execution_count": 9,
     "metadata": {},
     "output_type": "execute_result"
    }
   ],
   "source": [
    "submission.title"
   ]
  },
  {
   "cell_type": "code",
   "execution_count": 10,
   "metadata": {},
   "outputs": [
    {
     "data": {
      "text/plain": [
       "0"
      ]
     },
     "execution_count": 10,
     "metadata": {},
     "output_type": "execute_result"
    }
   ],
   "source": [
    "submission.score"
   ]
  },
  {
   "cell_type": "code",
   "execution_count": 11,
   "metadata": {},
   "outputs": [
    {
     "data": {
      "text/plain": [
       "praw.models.reddit.submission.Submission"
      ]
     },
     "execution_count": 11,
     "metadata": {},
     "output_type": "execute_result"
    }
   ],
   "source": [
    "type(submission)"
   ]
  },
  {
   "cell_type": "code",
   "execution_count": 12,
   "metadata": {},
   "outputs": [
    {
     "data": {
      "text/html": [
       "<div>\n",
       "<style scoped>\n",
       "    .dataframe tbody tr th:only-of-type {\n",
       "        vertical-align: middle;\n",
       "    }\n",
       "\n",
       "    .dataframe tbody tr th {\n",
       "        vertical-align: top;\n",
       "    }\n",
       "\n",
       "    .dataframe thead th {\n",
       "        text-align: right;\n",
       "    }\n",
       "</style>\n",
       "<table border=\"1\" class=\"dataframe\">\n",
       "  <thead>\n",
       "    <tr style=\"text-align: right;\">\n",
       "      <th></th>\n",
       "      <th>title</th>\n",
       "      <th>score</th>\n",
       "      <th>id</th>\n",
       "      <th>name</th>\n",
       "      <th>url</th>\n",
       "      <th>author</th>\n",
       "      <th>selftext</th>\n",
       "    </tr>\n",
       "  </thead>\n",
       "  <tbody>\n",
       "    <tr>\n",
       "      <th>0</th>\n",
       "      <td>Beyond Transformers with PyNeuraLogic 🤖</td>\n",
       "      <td>3</td>\n",
       "      <td>10z497c</td>\n",
       "      <td>t3_10z497c</td>\n",
       "      <td>https://www.reddit.com/r/deeplearning/comments...</td>\n",
       "      <td>Lukas_Zahradnik</td>\n",
       "      <td>Going beyond Transformers? 🤖\\n\\nIn this articl...</td>\n",
       "    </tr>\n",
       "    <tr>\n",
       "      <th>1</th>\n",
       "      <td>Did anybody try LaneNet ?</td>\n",
       "      <td>5</td>\n",
       "      <td>10yynej</td>\n",
       "      <td>t3_10yynej</td>\n",
       "      <td>https://www.reddit.com/r/deeplearning/comments...</td>\n",
       "      <td>Puzzleheaded-Rest467</td>\n",
       "      <td>Hi, I am working with LaneNet model, \\n\\nI am ...</td>\n",
       "    </tr>\n",
       "    <tr>\n",
       "      <th>2</th>\n",
       "      <td>My Machine Learning: Learning Program</td>\n",
       "      <td>3</td>\n",
       "      <td>10z0ppo</td>\n",
       "      <td>t3_10z0ppo</td>\n",
       "      <td>https://www.reddit.com/r/deeplearning/comments...</td>\n",
       "      <td>Learning_DL</td>\n",
       "      <td>\\nHi there, \\n\\nI want to learn deep earning a...</td>\n",
       "    </tr>\n",
       "    <tr>\n",
       "      <th>3</th>\n",
       "      <td>Dataset Abuse Is Rife in Computer Vision – But...</td>\n",
       "      <td>11</td>\n",
       "      <td>10yqhhy</td>\n",
       "      <td>t3_10yqhhy</td>\n",
       "      <td>https://metaphysic.ai/dataset-abuse-is-rife-in...</td>\n",
       "      <td>bissembert</td>\n",
       "      <td></td>\n",
       "    </tr>\n",
       "    <tr>\n",
       "      <th>4</th>\n",
       "      <td>Preprocessing data for CNN tips?</td>\n",
       "      <td>1</td>\n",
       "      <td>10yxf5c</td>\n",
       "      <td>t3_10yxf5c</td>\n",
       "      <td>https://www.reddit.com/r/deeplearning/comments...</td>\n",
       "      <td>Sufficient-Mine5750</td>\n",
       "      <td>I’m fairly new to deep learning and learning a...</td>\n",
       "    </tr>\n",
       "    <tr>\n",
       "      <th>5</th>\n",
       "      <td>Help with Object detection</td>\n",
       "      <td>1</td>\n",
       "      <td>10yvcgk</td>\n",
       "      <td>t3_10yvcgk</td>\n",
       "      <td>https://www.reddit.com/r/deeplearning/comments...</td>\n",
       "      <td>harshalplus1</td>\n",
       "      <td>I've found that I can use Yolo algorithm to de...</td>\n",
       "    </tr>\n",
       "    <tr>\n",
       "      <th>6</th>\n",
       "      <td>[R] Robust Learning: the past and present. The...</td>\n",
       "      <td>1</td>\n",
       "      <td>10yry3a</td>\n",
       "      <td>t3_10yry3a</td>\n",
       "      <td>/r/MachineLearning/comments/z49k7x/r_robust_le...</td>\n",
       "      <td>XinshaoWang</td>\n",
       "      <td></td>\n",
       "    </tr>\n",
       "    <tr>\n",
       "      <th>7</th>\n",
       "      <td>[Tutorial] Introduction to Tensors in TensorFlow</td>\n",
       "      <td>9</td>\n",
       "      <td>10ybaz5</td>\n",
       "      <td>t3_10ybaz5</td>\n",
       "      <td>https://www.reddit.com/r/deeplearning/comments...</td>\n",
       "      <td>sovit-123</td>\n",
       "      <td>Introduction to Tensors in TensorFlow\\n\\n[http...</td>\n",
       "    </tr>\n",
       "    <tr>\n",
       "      <th>8</th>\n",
       "      <td>Choose a video format for real time classifier</td>\n",
       "      <td>2</td>\n",
       "      <td>10y8p6r</td>\n",
       "      <td>t3_10y8p6r</td>\n",
       "      <td>https://www.reddit.com/r/deeplearning/comments...</td>\n",
       "      <td>michaelgavlin2</td>\n",
       "      <td>Hi guys, i am trying to figure out what is the...</td>\n",
       "    </tr>\n",
       "    <tr>\n",
       "      <th>9</th>\n",
       "      <td>*The Rise of Multi-Model Deep Learning: Transf...</td>\n",
       "      <td>0</td>\n",
       "      <td>10yi38u</td>\n",
       "      <td>t3_10yi38u</td>\n",
       "      <td>https://www.reddit.com/r/deeplearning/comments...</td>\n",
       "      <td>Ashishpatel26</td>\n",
       "      <td></td>\n",
       "    </tr>\n",
       "  </tbody>\n",
       "</table>\n",
       "</div>"
      ],
      "text/plain": [
       "                                               title  score       id  \\\n",
       "0            Beyond Transformers with PyNeuraLogic 🤖      3  10z497c   \n",
       "1                          Did anybody try LaneNet ?      5  10yynej   \n",
       "2              My Machine Learning: Learning Program      3  10z0ppo   \n",
       "3  Dataset Abuse Is Rife in Computer Vision – But...     11  10yqhhy   \n",
       "4                   Preprocessing data for CNN tips?      1  10yxf5c   \n",
       "5                         Help with Object detection      1  10yvcgk   \n",
       "6  [R] Robust Learning: the past and present. The...      1  10yry3a   \n",
       "7   [Tutorial] Introduction to Tensors in TensorFlow      9  10ybaz5   \n",
       "8     Choose a video format for real time classifier      2  10y8p6r   \n",
       "9  *The Rise of Multi-Model Deep Learning: Transf...      0  10yi38u   \n",
       "\n",
       "         name                                                url  \\\n",
       "0  t3_10z497c  https://www.reddit.com/r/deeplearning/comments...   \n",
       "1  t3_10yynej  https://www.reddit.com/r/deeplearning/comments...   \n",
       "2  t3_10z0ppo  https://www.reddit.com/r/deeplearning/comments...   \n",
       "3  t3_10yqhhy  https://metaphysic.ai/dataset-abuse-is-rife-in...   \n",
       "4  t3_10yxf5c  https://www.reddit.com/r/deeplearning/comments...   \n",
       "5  t3_10yvcgk  https://www.reddit.com/r/deeplearning/comments...   \n",
       "6  t3_10yry3a  /r/MachineLearning/comments/z49k7x/r_robust_le...   \n",
       "7  t3_10ybaz5  https://www.reddit.com/r/deeplearning/comments...   \n",
       "8  t3_10y8p6r  https://www.reddit.com/r/deeplearning/comments...   \n",
       "9  t3_10yi38u  https://www.reddit.com/r/deeplearning/comments...   \n",
       "\n",
       "                 author                                           selftext  \n",
       "0       Lukas_Zahradnik  Going beyond Transformers? 🤖\\n\\nIn this articl...  \n",
       "1  Puzzleheaded-Rest467  Hi, I am working with LaneNet model, \\n\\nI am ...  \n",
       "2           Learning_DL  \\nHi there, \\n\\nI want to learn deep earning a...  \n",
       "3            bissembert                                                     \n",
       "4   Sufficient-Mine5750  I’m fairly new to deep learning and learning a...  \n",
       "5          harshalplus1  I've found that I can use Yolo algorithm to de...  \n",
       "6           XinshaoWang                                                     \n",
       "7             sovit-123  Introduction to Tensors in TensorFlow\\n\\n[http...  \n",
       "8        michaelgavlin2  Hi guys, i am trying to figure out what is the...  \n",
       "9         Ashishpatel26                                                     "
      ]
     },
     "execution_count": 12,
     "metadata": {},
     "output_type": "execute_result"
    }
   ],
   "source": [
    "df.head(10)"
   ]
  },
  {
   "cell_type": "code",
   "execution_count": 13,
   "metadata": {},
   "outputs": [
    {
     "name": "stdout",
     "output_type": "stream",
     "text": [
      "<class 'pandas.core.frame.DataFrame'>\n",
      "RangeIndex: 10 entries, 0 to 9\n",
      "Data columns (total 7 columns):\n",
      " #   Column    Non-Null Count  Dtype \n",
      "---  ------    --------------  ----- \n",
      " 0   title     10 non-null     object\n",
      " 1   score     10 non-null     int64 \n",
      " 2   id        10 non-null     object\n",
      " 3   name      10 non-null     object\n",
      " 4   url       10 non-null     object\n",
      " 5   author    10 non-null     object\n",
      " 6   selftext  10 non-null     object\n",
      "dtypes: int64(1), object(6)\n",
      "memory usage: 688.0+ bytes\n"
     ]
    }
   ],
   "source": [
    "df.info()"
   ]
  },
  {
   "cell_type": "code",
   "execution_count": null,
   "metadata": {},
   "outputs": [],
   "source": [
    "df.to_csv('result.csv', index=False)"
   ]
  }
 ],
 "metadata": {
  "kernelspec": {
   "display_name": "venv",
   "language": "python",
   "name": "python3"
  },
  "language_info": {
   "codemirror_mode": {
    "name": "ipython",
    "version": 3
   },
   "file_extension": ".py",
   "mimetype": "text/x-python",
   "name": "python",
   "nbconvert_exporter": "python",
   "pygments_lexer": "ipython3",
   "version": "3.9.14"
  },
  "orig_nbformat": 4,
  "vscode": {
   "interpreter": {
    "hash": "0e3c20a5819b5b3f3c81752ad85327f9f51f5d05f9edfaa884211e0e5368dc1a"
   }
  }
 },
 "nbformat": 4,
 "nbformat_minor": 2
}
